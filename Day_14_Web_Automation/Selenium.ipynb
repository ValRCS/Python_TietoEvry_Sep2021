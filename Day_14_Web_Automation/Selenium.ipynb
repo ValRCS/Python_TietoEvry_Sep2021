{
 "cells": [
  {
   "cell_type": "code",
   "execution_count": 2,
   "metadata": {},
   "outputs": [
    {
     "name": "stdout",
     "output_type": "stream",
     "text": [
      "Collecting selenium\n",
      "  Downloading selenium-3.141.0-py2.py3-none-any.whl (904 kB)\n",
      "Requirement already satisfied: urllib3 in c:\\users\\liga\\anaconda3\\lib\\site-packages (from selenium) (1.25.9)\n",
      "Installing collected packages: selenium\n",
      "Successfully installed selenium-3.141.0\n"
     ]
    }
   ],
   "source": [
    "!pip install selenium # only once!"
   ]
  },
  {
   "cell_type": "code",
   "execution_count": 1,
   "metadata": {},
   "outputs": [],
   "source": [
    "# now drivers https://pypi.org/project/selenium/\n",
    "# https://sites.google.com/a/chromium.org/chromedriver/downloads\n",
    "# driver has to be a in a path that is in your System Enviroment Path"
   ]
  },
  {
   "cell_type": "code",
   "execution_count": 1,
   "metadata": {},
   "outputs": [
    {
     "ename": "SessionNotCreatedException",
     "evalue": "Message: session not created: This version of ChromeDriver only supports Chrome version 91\nCurrent browser version is 95.0.4638.69 with binary path C:\\Program Files\\Google\\Chrome\\Application\\chrome.exe\n",
     "output_type": "error",
     "traceback": [
      "\u001B[1;31m---------------------------------------------------------------------------\u001B[0m",
      "\u001B[1;31mSessionNotCreatedException\u001B[0m                Traceback (most recent call last)",
      "\u001B[1;32m<ipython-input-1-c20c5c23b54c>\u001B[0m in \u001B[0;36m<module>\u001B[1;34m\u001B[0m\n\u001B[0;32m      2\u001B[0m \u001B[1;32mfrom\u001B[0m \u001B[0mselenium\u001B[0m\u001B[1;33m.\u001B[0m\u001B[0mwebdriver\u001B[0m\u001B[1;33m.\u001B[0m\u001B[0mcommon\u001B[0m\u001B[1;33m.\u001B[0m\u001B[0mkeys\u001B[0m \u001B[1;32mimport\u001B[0m \u001B[0mKeys\u001B[0m\u001B[1;33m\u001B[0m\u001B[1;33m\u001B[0m\u001B[0m\n\u001B[0;32m      3\u001B[0m \u001B[1;33m\u001B[0m\u001B[0m\n\u001B[1;32m----> 4\u001B[1;33m \u001B[0mbrowser\u001B[0m \u001B[1;33m=\u001B[0m \u001B[0mwebdriver\u001B[0m\u001B[1;33m.\u001B[0m\u001B[0mChrome\u001B[0m\u001B[1;33m(\u001B[0m\u001B[1;33m)\u001B[0m \u001B[1;31m# so you need driver for the browser your Python folder is one option\u001B[0m\u001B[1;33m\u001B[0m\u001B[1;33m\u001B[0m\u001B[0m\n\u001B[0m\u001B[0;32m      5\u001B[0m \u001B[1;33m\u001B[0m\u001B[0m\n",
      "\u001B[1;32m~\\anaconda3\\lib\\site-packages\\selenium\\webdriver\\chrome\\webdriver.py\u001B[0m in \u001B[0;36m__init__\u001B[1;34m(self, executable_path, port, options, service_args, desired_capabilities, service_log_path, chrome_options, keep_alive)\u001B[0m\n\u001B[0;32m     74\u001B[0m \u001B[1;33m\u001B[0m\u001B[0m\n\u001B[0;32m     75\u001B[0m         \u001B[1;32mtry\u001B[0m\u001B[1;33m:\u001B[0m\u001B[1;33m\u001B[0m\u001B[1;33m\u001B[0m\u001B[0m\n\u001B[1;32m---> 76\u001B[1;33m             RemoteWebDriver.__init__(\n\u001B[0m\u001B[0;32m     77\u001B[0m                 \u001B[0mself\u001B[0m\u001B[1;33m,\u001B[0m\u001B[1;33m\u001B[0m\u001B[1;33m\u001B[0m\u001B[0m\n\u001B[0;32m     78\u001B[0m                 command_executor=ChromeRemoteConnection(\n",
      "\u001B[1;32m~\\anaconda3\\lib\\site-packages\\selenium\\webdriver\\remote\\webdriver.py\u001B[0m in \u001B[0;36m__init__\u001B[1;34m(self, command_executor, desired_capabilities, browser_profile, proxy, keep_alive, file_detector, options)\u001B[0m\n\u001B[0;32m    155\u001B[0m             warnings.warn(\"Please use FirefoxOptions to set browser profile\",\n\u001B[0;32m    156\u001B[0m                           DeprecationWarning, stacklevel=2)\n\u001B[1;32m--> 157\u001B[1;33m         \u001B[0mself\u001B[0m\u001B[1;33m.\u001B[0m\u001B[0mstart_session\u001B[0m\u001B[1;33m(\u001B[0m\u001B[0mcapabilities\u001B[0m\u001B[1;33m,\u001B[0m \u001B[0mbrowser_profile\u001B[0m\u001B[1;33m)\u001B[0m\u001B[1;33m\u001B[0m\u001B[1;33m\u001B[0m\u001B[0m\n\u001B[0m\u001B[0;32m    158\u001B[0m         \u001B[0mself\u001B[0m\u001B[1;33m.\u001B[0m\u001B[0m_switch_to\u001B[0m \u001B[1;33m=\u001B[0m \u001B[0mSwitchTo\u001B[0m\u001B[1;33m(\u001B[0m\u001B[0mself\u001B[0m\u001B[1;33m)\u001B[0m\u001B[1;33m\u001B[0m\u001B[1;33m\u001B[0m\u001B[0m\n\u001B[0;32m    159\u001B[0m         \u001B[0mself\u001B[0m\u001B[1;33m.\u001B[0m\u001B[0m_mobile\u001B[0m \u001B[1;33m=\u001B[0m \u001B[0mMobile\u001B[0m\u001B[1;33m(\u001B[0m\u001B[0mself\u001B[0m\u001B[1;33m)\u001B[0m\u001B[1;33m\u001B[0m\u001B[1;33m\u001B[0m\u001B[0m\n",
      "\u001B[1;32m~\\anaconda3\\lib\\site-packages\\selenium\\webdriver\\remote\\webdriver.py\u001B[0m in \u001B[0;36mstart_session\u001B[1;34m(self, capabilities, browser_profile)\u001B[0m\n\u001B[0;32m    250\u001B[0m         parameters = {\"capabilities\": w3c_caps,\n\u001B[0;32m    251\u001B[0m                       \"desiredCapabilities\": capabilities}\n\u001B[1;32m--> 252\u001B[1;33m         \u001B[0mresponse\u001B[0m \u001B[1;33m=\u001B[0m \u001B[0mself\u001B[0m\u001B[1;33m.\u001B[0m\u001B[0mexecute\u001B[0m\u001B[1;33m(\u001B[0m\u001B[0mCommand\u001B[0m\u001B[1;33m.\u001B[0m\u001B[0mNEW_SESSION\u001B[0m\u001B[1;33m,\u001B[0m \u001B[0mparameters\u001B[0m\u001B[1;33m)\u001B[0m\u001B[1;33m\u001B[0m\u001B[1;33m\u001B[0m\u001B[0m\n\u001B[0m\u001B[0;32m    253\u001B[0m         \u001B[1;32mif\u001B[0m \u001B[1;34m'sessionId'\u001B[0m \u001B[1;32mnot\u001B[0m \u001B[1;32min\u001B[0m \u001B[0mresponse\u001B[0m\u001B[1;33m:\u001B[0m\u001B[1;33m\u001B[0m\u001B[1;33m\u001B[0m\u001B[0m\n\u001B[0;32m    254\u001B[0m             \u001B[0mresponse\u001B[0m \u001B[1;33m=\u001B[0m \u001B[0mresponse\u001B[0m\u001B[1;33m[\u001B[0m\u001B[1;34m'value'\u001B[0m\u001B[1;33m]\u001B[0m\u001B[1;33m\u001B[0m\u001B[1;33m\u001B[0m\u001B[0m\n",
      "\u001B[1;32m~\\anaconda3\\lib\\site-packages\\selenium\\webdriver\\remote\\webdriver.py\u001B[0m in \u001B[0;36mexecute\u001B[1;34m(self, driver_command, params)\u001B[0m\n\u001B[0;32m    319\u001B[0m         \u001B[0mresponse\u001B[0m \u001B[1;33m=\u001B[0m \u001B[0mself\u001B[0m\u001B[1;33m.\u001B[0m\u001B[0mcommand_executor\u001B[0m\u001B[1;33m.\u001B[0m\u001B[0mexecute\u001B[0m\u001B[1;33m(\u001B[0m\u001B[0mdriver_command\u001B[0m\u001B[1;33m,\u001B[0m \u001B[0mparams\u001B[0m\u001B[1;33m)\u001B[0m\u001B[1;33m\u001B[0m\u001B[1;33m\u001B[0m\u001B[0m\n\u001B[0;32m    320\u001B[0m         \u001B[1;32mif\u001B[0m \u001B[0mresponse\u001B[0m\u001B[1;33m:\u001B[0m\u001B[1;33m\u001B[0m\u001B[1;33m\u001B[0m\u001B[0m\n\u001B[1;32m--> 321\u001B[1;33m             \u001B[0mself\u001B[0m\u001B[1;33m.\u001B[0m\u001B[0merror_handler\u001B[0m\u001B[1;33m.\u001B[0m\u001B[0mcheck_response\u001B[0m\u001B[1;33m(\u001B[0m\u001B[0mresponse\u001B[0m\u001B[1;33m)\u001B[0m\u001B[1;33m\u001B[0m\u001B[1;33m\u001B[0m\u001B[0m\n\u001B[0m\u001B[0;32m    322\u001B[0m             response['value'] = self._unwrap_value(\n\u001B[0;32m    323\u001B[0m                 response.get('value', None))\n",
      "\u001B[1;32m~\\anaconda3\\lib\\site-packages\\selenium\\webdriver\\remote\\errorhandler.py\u001B[0m in \u001B[0;36mcheck_response\u001B[1;34m(self, response)\u001B[0m\n\u001B[0;32m    240\u001B[0m                 \u001B[0malert_text\u001B[0m \u001B[1;33m=\u001B[0m \u001B[0mvalue\u001B[0m\u001B[1;33m[\u001B[0m\u001B[1;34m'alert'\u001B[0m\u001B[1;33m]\u001B[0m\u001B[1;33m.\u001B[0m\u001B[0mget\u001B[0m\u001B[1;33m(\u001B[0m\u001B[1;34m'text'\u001B[0m\u001B[1;33m)\u001B[0m\u001B[1;33m\u001B[0m\u001B[1;33m\u001B[0m\u001B[0m\n\u001B[0;32m    241\u001B[0m             \u001B[1;32mraise\u001B[0m \u001B[0mexception_class\u001B[0m\u001B[1;33m(\u001B[0m\u001B[0mmessage\u001B[0m\u001B[1;33m,\u001B[0m \u001B[0mscreen\u001B[0m\u001B[1;33m,\u001B[0m \u001B[0mstacktrace\u001B[0m\u001B[1;33m,\u001B[0m \u001B[0malert_text\u001B[0m\u001B[1;33m)\u001B[0m\u001B[1;33m\u001B[0m\u001B[1;33m\u001B[0m\u001B[0m\n\u001B[1;32m--> 242\u001B[1;33m         \u001B[1;32mraise\u001B[0m \u001B[0mexception_class\u001B[0m\u001B[1;33m(\u001B[0m\u001B[0mmessage\u001B[0m\u001B[1;33m,\u001B[0m \u001B[0mscreen\u001B[0m\u001B[1;33m,\u001B[0m \u001B[0mstacktrace\u001B[0m\u001B[1;33m)\u001B[0m\u001B[1;33m\u001B[0m\u001B[1;33m\u001B[0m\u001B[0m\n\u001B[0m\u001B[0;32m    243\u001B[0m \u001B[1;33m\u001B[0m\u001B[0m\n\u001B[0;32m    244\u001B[0m     \u001B[1;32mdef\u001B[0m \u001B[0m_value_or_default\u001B[0m\u001B[1;33m(\u001B[0m\u001B[0mself\u001B[0m\u001B[1;33m,\u001B[0m \u001B[0mobj\u001B[0m\u001B[1;33m,\u001B[0m \u001B[0mkey\u001B[0m\u001B[1;33m,\u001B[0m \u001B[0mdefault\u001B[0m\u001B[1;33m)\u001B[0m\u001B[1;33m:\u001B[0m\u001B[1;33m\u001B[0m\u001B[1;33m\u001B[0m\u001B[0m\n",
      "\u001B[1;31mSessionNotCreatedException\u001B[0m: Message: session not created: This version of ChromeDriver only supports Chrome version 91\nCurrent browser version is 95.0.4638.69 with binary path C:\\Program Files\\Google\\Chrome\\Application\\chrome.exe\n"
     ]
    }
   ],
   "source": [
    "from selenium import webdriver\n",
    "from selenium.webdriver.common.keys import Keys\n",
    "\n",
    "browser = webdriver.Chrome() # so you need driver for the browser your Python folder is one option"
   ]
  },
  {
   "cell_type": "code",
   "execution_count": 2,
   "metadata": {},
   "outputs": [],
   "source": [
    "browser.get('http://www.ss.com')\n",
    "assert 'SS' in browser.title # so no error we are good"
   ]
  },
  {
   "cell_type": "code",
   "execution_count": null,
   "metadata": {},
   "outputs": [],
   "source": [
    "# elem = browser.find_element_by_name('p')  # Find the search box\n",
    "# elem.send_keys('seleniumhq' + Keys.RETURN)"
   ]
  },
  {
   "cell_type": "code",
   "execution_count": 3,
   "metadata": {},
   "outputs": [
    {
     "data": {
      "text/plain": [
       "'https://www.ss.com/'"
      ]
     },
     "execution_count": 3,
     "metadata": {},
     "output_type": "execute_result"
    }
   ],
   "source": [
    "browser.current_url"
   ]
  },
  {
   "cell_type": "code",
   "execution_count": 4,
   "metadata": {},
   "outputs": [
    {
     "data": {
      "text/plain": [
       "selenium.webdriver.remote.webelement.WebElement"
      ]
     },
     "execution_count": 4,
     "metadata": {},
     "output_type": "execute_result"
    }
   ],
   "source": [
    "cars = browser.find_element_by_id(\"mtd_97\")\n",
    "type(cars)"
   ]
  },
  {
   "cell_type": "code",
   "execution_count": 5,
   "metadata": {},
   "outputs": [
    {
     "data": {
      "text/plain": [
       "'https://www.ss.com/lv/transport/cars/'"
      ]
     },
     "execution_count": 5,
     "metadata": {},
     "output_type": "execute_result"
    }
   ],
   "source": [
    "cars.get_attribute('href')"
   ]
  },
  {
   "cell_type": "code",
   "execution_count": 6,
   "metadata": {},
   "outputs": [
    {
     "data": {
      "text/plain": [
       "'Vieglie auto'"
      ]
     },
     "execution_count": 6,
     "metadata": {},
     "output_type": "execute_result"
    }
   ],
   "source": [
    "cars.get_attribute('title')"
   ]
  },
  {
   "cell_type": "code",
   "execution_count": 7,
   "metadata": {},
   "outputs": [
    {
     "data": {
      "text/plain": [
       "'Vieglie auto'"
      ]
     },
     "execution_count": 7,
     "metadata": {},
     "output_type": "execute_result"
    }
   ],
   "source": [
    "cars.text"
   ]
  },
  {
   "cell_type": "code",
   "execution_count": 8,
   "metadata": {},
   "outputs": [],
   "source": [
    "# https://devhints.io/xpath\n",
    "apart = browser.find_element_by_xpath('//a[@title=\"Dzīvokļi\"]') # XPath is very powerful tool for finding elements"
   ]
  },
  {
   "cell_type": "code",
   "execution_count": 9,
   "metadata": {},
   "outputs": [
    {
     "data": {
      "text/plain": [
       "selenium.webdriver.remote.webelement.WebElement"
      ]
     },
     "execution_count": 9,
     "metadata": {},
     "output_type": "execute_result"
    }
   ],
   "source": [
    "type(apart)"
   ]
  },
  {
   "cell_type": "code",
   "execution_count": 10,
   "metadata": {},
   "outputs": [],
   "source": [
    "apart.click() # i can emulate a mouse click"
   ]
  },
  {
   "cell_type": "code",
   "execution_count": 11,
   "metadata": {},
   "outputs": [],
   "source": [
    "browser.back()"
   ]
  },
  {
   "cell_type": "code",
   "execution_count": 12,
   "metadata": {},
   "outputs": [],
   "source": [
    "browser.forward()"
   ]
  },
  {
   "cell_type": "code",
   "execution_count": null,
   "metadata": {},
   "outputs": [],
   "source": []
  },
  {
   "cell_type": "code",
   "execution_count": 13,
   "metadata": {},
   "outputs": [
    {
     "data": {
      "text/plain": [
       "selenium.webdriver.remote.webelement.WebElement"
      ]
     },
     "execution_count": 13,
     "metadata": {},
     "output_type": "execute_result"
    }
   ],
   "source": [
    "riga = browser.find_element_by_xpath('//a[@title=\"Rīga, Sludinājumi\"]')\n",
    "type(riga)"
   ]
  },
  {
   "cell_type": "code",
   "execution_count": 14,
   "metadata": {},
   "outputs": [],
   "source": [
    "riga.click()"
   ]
  },
  {
   "cell_type": "code",
   "execution_count": 15,
   "metadata": {},
   "outputs": [
    {
     "data": {
      "text/plain": [
       "'https://www.ss.com/lv/real-estate/flats/riga/'"
      ]
     },
     "execution_count": 15,
     "metadata": {},
     "output_type": "execute_result"
    }
   ],
   "source": [
    "browser.current_url"
   ]
  },
  {
   "cell_type": "code",
   "execution_count": 16,
   "metadata": {},
   "outputs": [
    {
     "data": {
      "text/plain": [
       "{'width': 1936, 'height': 1056}"
      ]
     },
     "execution_count": 16,
     "metadata": {},
     "output_type": "execute_result"
    }
   ],
   "source": [
    "browser.get_window_size()"
   ]
  },
  {
   "cell_type": "code",
   "execution_count": 17,
   "metadata": {
    "scrolled": true
   },
   "outputs": [
    {
     "data": {
      "text/plain": [
       "True"
      ]
     },
     "execution_count": 17,
     "metadata": {},
     "output_type": "execute_result"
    }
   ],
   "source": [
    "# save with Pillow graphibrowser.get_screenshot_as_png()\n",
    "\n",
    "browser.save_screenshot(\"page.png\")"
   ]
  },
  {
   "cell_type": "code",
   "execution_count": null,
   "metadata": {},
   "outputs": [],
   "source": []
  },
  {
   "cell_type": "code",
   "execution_count": 18,
   "metadata": {},
   "outputs": [],
   "source": [
    "myel = browser.find_element_by_id('ahc_1089')"
   ]
  },
  {
   "cell_type": "code",
   "execution_count": 19,
   "metadata": {},
   "outputs": [
    {
     "data": {
      "text/plain": [
       "'Bolderāja'"
      ]
     },
     "execution_count": 19,
     "metadata": {},
     "output_type": "execute_result"
    }
   ],
   "source": [
    "myel.text"
   ]
  },
  {
   "cell_type": "code",
   "execution_count": 20,
   "metadata": {
    "scrolled": false
   },
   "outputs": [
    {
     "data": {
      "text/plain": [
       "[{'ATTRIBUTE_NODE': 2,\n",
       "  'CDATA_SECTION_NODE': 4,\n",
       "  'COMMENT_NODE': 8,\n",
       "  'DOCUMENT_FRAGMENT_NODE': 11,\n",
       "  'DOCUMENT_NODE': 9,\n",
       "  'DOCUMENT_POSITION_CONTAINED_BY': 16,\n",
       "  'DOCUMENT_POSITION_CONTAINS': 8,\n",
       "  'DOCUMENT_POSITION_DISCONNECTED': 1,\n",
       "  'DOCUMENT_POSITION_FOLLOWING': 4,\n",
       "  'DOCUMENT_POSITION_IMPLEMENTATION_SPECIFIC': 32,\n",
       "  'DOCUMENT_POSITION_PRECEDING': 2,\n",
       "  'DOCUMENT_TYPE_NODE': 10,\n",
       "  'ELEMENT_NODE': 1,\n",
       "  'ENTITY_NODE': 6,\n",
       "  'ENTITY_REFERENCE_NODE': 5,\n",
       "  'NOTATION_NODE': 12,\n",
       "  'PROCESSING_INSTRUCTION_NODE': 7,\n",
       "  'TEXT_NODE': 3,\n",
       "  'addEventListener': {},\n",
       "  'appendChild': {},\n",
       "  'baseURI': 'https://www.ss.com/',\n",
       "  'childNodes': [],\n",
       "  'cloneNode': {},\n",
       "  'compareDocumentPosition': {},\n",
       "  'contains': {},\n",
       "  'dispatchEvent': {},\n",
       "  'firstChild': None,\n",
       "  'getRootNode': {},\n",
       "  'hasChildNodes': {},\n",
       "  'insertBefore': {},\n",
       "  'isConnected': False,\n",
       "  'isDefaultNamespace': {},\n",
       "  'isEqualNode': {},\n",
       "  'isSameNode': {},\n",
       "  'lastChild': None,\n",
       "  'localName': 'id',\n",
       "  'lookupNamespaceURI': {},\n",
       "  'lookupPrefix': {},\n",
       "  'name': 'id',\n",
       "  'namespaceURI': None,\n",
       "  'nextSibling': None,\n",
       "  'nodeName': 'id',\n",
       "  'nodeType': 2,\n",
       "  'nodeValue': 'ahc_1089',\n",
       "  'normalize': {},\n",
       "  'ownerDocument': <selenium.webdriver.remote.webelement.WebElement (session=\"0c4f601c6983053ab32a47abe19d36fe\", element=\"bcaee9c6-4df5-454a-8ebc-1023ffe52809\")>,\n",
       "  'ownerElement': <selenium.webdriver.remote.webelement.WebElement (session=\"0c4f601c6983053ab32a47abe19d36fe\", element=\"96052cd0-b95b-4064-ad2f-0e27bb671eb1\")>,\n",
       "  'parentElement': None,\n",
       "  'parentNode': None,\n",
       "  'prefix': None,\n",
       "  'previousSibling': None,\n",
       "  'removeChild': {},\n",
       "  'removeEventListener': {},\n",
       "  'replaceChild': {},\n",
       "  'specified': True,\n",
       "  'textContent': 'ahc_1089',\n",
       "  'value': 'ahc_1089'},\n",
       " {'ATTRIBUTE_NODE': 2,\n",
       "  'CDATA_SECTION_NODE': 4,\n",
       "  'COMMENT_NODE': 8,\n",
       "  'DOCUMENT_FRAGMENT_NODE': 11,\n",
       "  'DOCUMENT_NODE': 9,\n",
       "  'DOCUMENT_POSITION_CONTAINED_BY': 16,\n",
       "  'DOCUMENT_POSITION_CONTAINS': 8,\n",
       "  'DOCUMENT_POSITION_DISCONNECTED': 1,\n",
       "  'DOCUMENT_POSITION_FOLLOWING': 4,\n",
       "  'DOCUMENT_POSITION_IMPLEMENTATION_SPECIFIC': 32,\n",
       "  'DOCUMENT_POSITION_PRECEDING': 2,\n",
       "  'DOCUMENT_TYPE_NODE': 10,\n",
       "  'ELEMENT_NODE': 1,\n",
       "  'ENTITY_NODE': 6,\n",
       "  'ENTITY_REFERENCE_NODE': 5,\n",
       "  'NOTATION_NODE': 12,\n",
       "  'PROCESSING_INSTRUCTION_NODE': 7,\n",
       "  'TEXT_NODE': 3,\n",
       "  'addEventListener': {},\n",
       "  'appendChild': {},\n",
       "  'baseURI': 'https://www.ss.com/',\n",
       "  'childNodes': [],\n",
       "  'cloneNode': {},\n",
       "  'compareDocumentPosition': {},\n",
       "  'contains': {},\n",
       "  'dispatchEvent': {},\n",
       "  'firstChild': None,\n",
       "  'getRootNode': {},\n",
       "  'hasChildNodes': {},\n",
       "  'insertBefore': {},\n",
       "  'isConnected': False,\n",
       "  'isDefaultNamespace': {},\n",
       "  'isEqualNode': {},\n",
       "  'isSameNode': {},\n",
       "  'lastChild': None,\n",
       "  'localName': 'href',\n",
       "  'lookupNamespaceURI': {},\n",
       "  'lookupPrefix': {},\n",
       "  'name': 'href',\n",
       "  'namespaceURI': None,\n",
       "  'nextSibling': None,\n",
       "  'nodeName': 'href',\n",
       "  'nodeType': 2,\n",
       "  'nodeValue': '/lv/real-estate/flats/riga/bolderaya/',\n",
       "  'normalize': {},\n",
       "  'ownerDocument': <selenium.webdriver.remote.webelement.WebElement (session=\"0c4f601c6983053ab32a47abe19d36fe\", element=\"bcaee9c6-4df5-454a-8ebc-1023ffe52809\")>,\n",
       "  'ownerElement': <selenium.webdriver.remote.webelement.WebElement (session=\"0c4f601c6983053ab32a47abe19d36fe\", element=\"96052cd0-b95b-4064-ad2f-0e27bb671eb1\")>,\n",
       "  'parentElement': None,\n",
       "  'parentNode': None,\n",
       "  'prefix': None,\n",
       "  'previousSibling': None,\n",
       "  'removeChild': {},\n",
       "  'removeEventListener': {},\n",
       "  'replaceChild': {},\n",
       "  'specified': True,\n",
       "  'textContent': '/lv/real-estate/flats/riga/bolderaya/',\n",
       "  'value': '/lv/real-estate/flats/riga/bolderaya/'},\n",
       " {'ATTRIBUTE_NODE': 2,\n",
       "  'CDATA_SECTION_NODE': 4,\n",
       "  'COMMENT_NODE': 8,\n",
       "  'DOCUMENT_FRAGMENT_NODE': 11,\n",
       "  'DOCUMENT_NODE': 9,\n",
       "  'DOCUMENT_POSITION_CONTAINED_BY': 16,\n",
       "  'DOCUMENT_POSITION_CONTAINS': 8,\n",
       "  'DOCUMENT_POSITION_DISCONNECTED': 1,\n",
       "  'DOCUMENT_POSITION_FOLLOWING': 4,\n",
       "  'DOCUMENT_POSITION_IMPLEMENTATION_SPECIFIC': 32,\n",
       "  'DOCUMENT_POSITION_PRECEDING': 2,\n",
       "  'DOCUMENT_TYPE_NODE': 10,\n",
       "  'ELEMENT_NODE': 1,\n",
       "  'ENTITY_NODE': 6,\n",
       "  'ENTITY_REFERENCE_NODE': 5,\n",
       "  'NOTATION_NODE': 12,\n",
       "  'PROCESSING_INSTRUCTION_NODE': 7,\n",
       "  'TEXT_NODE': 3,\n",
       "  'addEventListener': {},\n",
       "  'appendChild': {},\n",
       "  'baseURI': 'https://www.ss.com/',\n",
       "  'childNodes': [],\n",
       "  'cloneNode': {},\n",
       "  'compareDocumentPosition': {},\n",
       "  'contains': {},\n",
       "  'dispatchEvent': {},\n",
       "  'firstChild': None,\n",
       "  'getRootNode': {},\n",
       "  'hasChildNodes': {},\n",
       "  'insertBefore': {},\n",
       "  'isConnected': False,\n",
       "  'isDefaultNamespace': {},\n",
       "  'isEqualNode': {},\n",
       "  'isSameNode': {},\n",
       "  'lastChild': None,\n",
       "  'localName': 'class',\n",
       "  'lookupNamespaceURI': {},\n",
       "  'lookupPrefix': {},\n",
       "  'name': 'class',\n",
       "  'namespaceURI': None,\n",
       "  'nextSibling': None,\n",
       "  'nodeName': 'class',\n",
       "  'nodeType': 2,\n",
       "  'nodeValue': 'a_category',\n",
       "  'normalize': {},\n",
       "  'ownerDocument': <selenium.webdriver.remote.webelement.WebElement (session=\"0c4f601c6983053ab32a47abe19d36fe\", element=\"bcaee9c6-4df5-454a-8ebc-1023ffe52809\")>,\n",
       "  'ownerElement': <selenium.webdriver.remote.webelement.WebElement (session=\"0c4f601c6983053ab32a47abe19d36fe\", element=\"96052cd0-b95b-4064-ad2f-0e27bb671eb1\")>,\n",
       "  'parentElement': None,\n",
       "  'parentNode': None,\n",
       "  'prefix': None,\n",
       "  'previousSibling': None,\n",
       "  'removeChild': {},\n",
       "  'removeEventListener': {},\n",
       "  'replaceChild': {},\n",
       "  'specified': True,\n",
       "  'textContent': 'a_category',\n",
       "  'value': 'a_category'},\n",
       " {'ATTRIBUTE_NODE': 2,\n",
       "  'CDATA_SECTION_NODE': 4,\n",
       "  'COMMENT_NODE': 8,\n",
       "  'DOCUMENT_FRAGMENT_NODE': 11,\n",
       "  'DOCUMENT_NODE': 9,\n",
       "  'DOCUMENT_POSITION_CONTAINED_BY': 16,\n",
       "  'DOCUMENT_POSITION_CONTAINS': 8,\n",
       "  'DOCUMENT_POSITION_DISCONNECTED': 1,\n",
       "  'DOCUMENT_POSITION_FOLLOWING': 4,\n",
       "  'DOCUMENT_POSITION_IMPLEMENTATION_SPECIFIC': 32,\n",
       "  'DOCUMENT_POSITION_PRECEDING': 2,\n",
       "  'DOCUMENT_TYPE_NODE': 10,\n",
       "  'ELEMENT_NODE': 1,\n",
       "  'ENTITY_NODE': 6,\n",
       "  'ENTITY_REFERENCE_NODE': 5,\n",
       "  'NOTATION_NODE': 12,\n",
       "  'PROCESSING_INSTRUCTION_NODE': 7,\n",
       "  'TEXT_NODE': 3,\n",
       "  'addEventListener': {},\n",
       "  'appendChild': {},\n",
       "  'baseURI': 'https://www.ss.com/',\n",
       "  'childNodes': [],\n",
       "  'cloneNode': {},\n",
       "  'compareDocumentPosition': {},\n",
       "  'contains': {},\n",
       "  'dispatchEvent': {},\n",
       "  'firstChild': None,\n",
       "  'getRootNode': {},\n",
       "  'hasChildNodes': {},\n",
       "  'insertBefore': {},\n",
       "  'isConnected': False,\n",
       "  'isDefaultNamespace': {},\n",
       "  'isEqualNode': {},\n",
       "  'isSameNode': {},\n",
       "  'lastChild': None,\n",
       "  'localName': 'title',\n",
       "  'lookupNamespaceURI': {},\n",
       "  'lookupPrefix': {},\n",
       "  'name': 'title',\n",
       "  'namespaceURI': None,\n",
       "  'nextSibling': None,\n",
       "  'nodeName': 'title',\n",
       "  'nodeType': 2,\n",
       "  'nodeValue': 'Bolderāja, Sludinājumi',\n",
       "  'normalize': {},\n",
       "  'ownerDocument': <selenium.webdriver.remote.webelement.WebElement (session=\"0c4f601c6983053ab32a47abe19d36fe\", element=\"bcaee9c6-4df5-454a-8ebc-1023ffe52809\")>,\n",
       "  'ownerElement': <selenium.webdriver.remote.webelement.WebElement (session=\"0c4f601c6983053ab32a47abe19d36fe\", element=\"96052cd0-b95b-4064-ad2f-0e27bb671eb1\")>,\n",
       "  'parentElement': None,\n",
       "  'parentNode': None,\n",
       "  'prefix': None,\n",
       "  'previousSibling': None,\n",
       "  'removeChild': {},\n",
       "  'removeEventListener': {},\n",
       "  'replaceChild': {},\n",
       "  'specified': True,\n",
       "  'textContent': 'Bolderāja, Sludinājumi',\n",
       "  'value': 'Bolderāja, Sludinājumi'}]"
      ]
     },
     "execution_count": 20,
     "metadata": {},
     "output_type": "execute_result"
    }
   ],
   "source": [
    "myel.get_property('attributes')"
   ]
  },
  {
   "cell_type": "code",
   "execution_count": 21,
   "metadata": {},
   "outputs": [],
   "source": [
    "myel.click()"
   ]
  }
 ],
 "metadata": {
  "kernelspec": {
   "display_name": "Python 3",
   "language": "python",
   "name": "python3"
  },
  "language_info": {
   "codemirror_mode": {
    "name": "ipython",
    "version": 3
   },
   "file_extension": ".py",
   "mimetype": "text/x-python",
   "name": "python",
   "nbconvert_exporter": "python",
   "pygments_lexer": "ipython3",
   "version": "3.8.3"
  }
 },
 "nbformat": 4,
 "nbformat_minor": 4
}